{
 "cells": [
  {
   "cell_type": "code",
   "execution_count": 4,
   "id": "ed664b37-e237-4e7e-ae92-e06365f13cc2",
   "metadata": {},
   "outputs": [],
   "source": [
    "import os\n",
    "import shutil\n",
    "srcpath = '/Users/ERDT/Desktop/Wayne/MFG717M/Data'\n",
    "srcfiles = os.listdir(srcpath)"
   ]
  },
  {
   "cell_type": "code",
   "execution_count": 5,
   "id": "47bf97e3-2bdc-40b9-9b21-ad0fa47840a9",
   "metadata": {},
   "outputs": [],
   "source": [
    "import firebase_admin\n",
    "from firebase_admin import credentials\n",
    "from firebase_admin import db\n",
    "import csv\n",
    "\n",
    "\n",
    "cred = credentials.Certificate('key.json')\n",
    "databaseURL = 'https://mfg717m-final-default-rtdb.asia-southeast1.firebasedatabase.app/'\n",
    "\n",
    "if not firebase_admin._apps:\n",
    "    firebase_admin.initialize_app(cred, {\n",
    "        'databaseURL': databaseURL\n",
    "    })"
   ]
  },
  {
   "cell_type": "code",
   "execution_count": 10,
   "id": "dccffd4b-e1a6-4775-a3fb-8fe0600fce51",
   "metadata": {},
   "outputs": [
    {
     "data": {
      "text/plain": [
       "'17557_sat.jpg'"
      ]
     },
     "execution_count": 10,
     "metadata": {},
     "output_type": "execute_result"
    }
   ],
   "source": [
    "srcfiles[2]"
   ]
  },
  {
   "cell_type": "code",
   "execution_count": 14,
   "id": "bf7e47a6-6ed3-4bc7-9317-f51e153d98d5",
   "metadata": {},
   "outputs": [
    {
     "name": "stdout",
     "output_type": "stream",
     "text": [
      "0\n",
      "1\n",
      "2\n",
      "3\n",
      "4\n",
      "5\n",
      "6\n",
      "7\n",
      "8\n",
      "9\n",
      "10\n",
      "11\n",
      "12\n",
      "13\n",
      "14\n"
     ]
    }
   ],
   "source": [
    "ref = db.reference('Optical_Images')\n",
    "for i in range(len(srcfiles)):\n",
    "    ref.update({\n",
    "        i+1:{\n",
    "            'time_taken': '11:59:42',\n",
    "            'day_taken': '17/12/2022',\n",
    "            'time_received': '15:43:57',\n",
    "            'day_received': '18/12/2022',\n",
    "            'latitude': 121.562,\n",
    "            'longitude': 11.684,\n",
    "            'cloud_cover': 0.00,\n",
    "            'satellite_id': 1,\n",
    "            'spectral_frequency': 467.43,\n",
    "            'image_data': srcpath+'/'+srcfiles[i]\n",
    "        }\n",
    "    })\n",
    "    print(i)"
   ]
  },
  {
   "cell_type": "code",
   "execution_count": null,
   "id": "e537a087-d525-47bc-82cf-a29e0c25748c",
   "metadata": {},
   "outputs": [],
   "source": []
  }
 ],
 "metadata": {
  "kernelspec": {
   "display_name": "Python 3 (ipykernel)",
   "language": "python",
   "name": "python3"
  },
  "language_info": {
   "codemirror_mode": {
    "name": "ipython",
    "version": 3
   },
   "file_extension": ".py",
   "mimetype": "text/x-python",
   "name": "python",
   "nbconvert_exporter": "python",
   "pygments_lexer": "ipython3",
   "version": "3.10.8"
  }
 },
 "nbformat": 4,
 "nbformat_minor": 5
}
